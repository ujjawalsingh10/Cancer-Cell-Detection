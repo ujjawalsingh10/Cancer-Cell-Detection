{
 "cells": [
  {
   "cell_type": "code",
   "execution_count": 1,
   "id": "eb305c36",
   "metadata": {
    "_cell_guid": "b1076dfc-b9ad-4769-8c92-a6c4dae69d19",
    "_uuid": "8f2839f25d086af736a60e9eeb907d3b93b6e0e5",
    "execution": {
     "iopub.execute_input": "2023-06-18T17:52:36.506995Z",
     "iopub.status.busy": "2023-06-18T17:52:36.506284Z",
     "iopub.status.idle": "2023-06-18T17:52:54.574719Z",
     "shell.execute_reply": "2023-06-18T17:52:54.573642Z"
    },
    "papermill": {
     "duration": 18.086337,
     "end_time": "2023-06-18T17:52:54.577501",
     "exception": false,
     "start_time": "2023-06-18T17:52:36.491164",
     "status": "completed"
    },
    "tags": []
   },
   "outputs": [],
   "source": [
    "# This Python 3 environment comes with many helpful analytics libraries installed\n",
    "# It is defined by the kaggle/python Docker image: https://github.com/kaggle/docker-python\n",
    "# For example, here's several helpful packages to load\n",
    "\n",
    "import numpy as np # linear algebra\n",
    "import pandas as pd # data processing, CSV file I/O (e.g. pd.read_csv)\n",
    "from tqdm import tqdm\n",
    "from glob import glob\n",
    "from PIL import Image\n",
    "\n",
    "# Input data files are available in the read-only \"../input/\" directory\n",
    "# For example, running this (by clicking run or pressing Shift+Enter) will list all files under the input directory\n",
    "\n",
    "import os\n",
    "for dirname, _, filenames in os.walk('/kaggle/input'):\n",
    "    for filename in filenames:\n",
    "        os.path.join(dirname, filename)\n",
    "\n",
    "# You can write up to 20GB to the current directory (/kaggle/working/) that gets preserved as output when you create a version using \"Save & Run All\" \n",
    "# You can also write temporary files to /kaggle/temp/, but they won't be saved outside of the current session"
   ]
  },
  {
   "cell_type": "code",
   "execution_count": 2,
   "id": "69bc326e",
   "metadata": {
    "execution": {
     "iopub.execute_input": "2023-06-18T17:52:54.603202Z",
     "iopub.status.busy": "2023-06-18T17:52:54.602396Z",
     "iopub.status.idle": "2023-06-18T17:52:54.608407Z",
     "shell.execute_reply": "2023-06-18T17:52:54.607453Z"
    },
    "papermill": {
     "duration": 0.021548,
     "end_time": "2023-06-18T17:52:54.611427",
     "exception": false,
     "start_time": "2023-06-18T17:52:54.589879",
     "status": "completed"
    },
    "tags": []
   },
   "outputs": [
    {
     "name": "stdout",
     "output_type": "stream",
     "text": [
      "['hmnist_8_8_RGB.csv', 'hmnist_28_28_RGB.csv', 'HAM10000_images_part_1', 'ham10000_images_part_1', 'hmnist_8_8_L.csv', 'HAM10000_images_part_2', 'ham10000_images_part_2', 'hmnist_28_28_L.csv', 'HAM10000_metadata.csv']\n"
     ]
    }
   ],
   "source": [
    "print(os.listdir(\"../input/skin-cancer-mnist-ham10000\"))"
   ]
  },
  {
   "cell_type": "code",
   "execution_count": 3,
   "id": "b52f0fae",
   "metadata": {
    "execution": {
     "iopub.execute_input": "2023-06-18T17:52:54.636555Z",
     "iopub.status.busy": "2023-06-18T17:52:54.635631Z",
     "iopub.status.idle": "2023-06-18T17:52:54.785240Z",
     "shell.execute_reply": "2023-06-18T17:52:54.784264Z"
    },
    "papermill": {
     "duration": 0.16466,
     "end_time": "2023-06-18T17:52:54.787606",
     "exception": false,
     "start_time": "2023-06-18T17:52:54.622946",
     "status": "completed"
    },
    "tags": []
   },
   "outputs": [],
   "source": [
    "#Matching the row info in HAM10000_metadata with corresponding images\n",
    "img_dir = '../input/skin-cancer-mnist-ham10000'\n",
    "image_path = glob(os.path.join(img_dir, '*', '*.jpg'))\n",
    "imageid_path_dict = {os.path.splitext(os.path.basename(x))[0]: x for x in image_path}"
   ]
  },
  {
   "cell_type": "code",
   "execution_count": 4,
   "id": "06985377",
   "metadata": {
    "execution": {
     "iopub.execute_input": "2023-06-18T17:52:54.814001Z",
     "iopub.status.busy": "2023-06-18T17:52:54.813680Z",
     "iopub.status.idle": "2023-06-18T17:52:54.845947Z",
     "shell.execute_reply": "2023-06-18T17:52:54.844966Z"
    },
    "papermill": {
     "duration": 0.0475,
     "end_time": "2023-06-18T17:52:54.848227",
     "exception": false,
     "start_time": "2023-06-18T17:52:54.800727",
     "status": "completed"
    },
    "tags": []
   },
   "outputs": [],
   "source": [
    "df = pd.read_csv('/kaggle/input/skin-cancer-mnist-ham10000/HAM10000_metadata.csv')"
   ]
  },
  {
   "cell_type": "code",
   "execution_count": 5,
   "id": "550534af",
   "metadata": {
    "execution": {
     "iopub.execute_input": "2023-06-18T17:52:54.874307Z",
     "iopub.status.busy": "2023-06-18T17:52:54.874017Z",
     "iopub.status.idle": "2023-06-18T17:52:54.903949Z",
     "shell.execute_reply": "2023-06-18T17:52:54.902988Z"
    },
    "papermill": {
     "duration": 0.045197,
     "end_time": "2023-06-18T17:52:54.906194",
     "exception": false,
     "start_time": "2023-06-18T17:52:54.860997",
     "status": "completed"
    },
    "tags": []
   },
   "outputs": [
    {
     "data": {
      "text/html": [
       "<div>\n",
       "<style scoped>\n",
       "    .dataframe tbody tr th:only-of-type {\n",
       "        vertical-align: middle;\n",
       "    }\n",
       "\n",
       "    .dataframe tbody tr th {\n",
       "        vertical-align: top;\n",
       "    }\n",
       "\n",
       "    .dataframe thead th {\n",
       "        text-align: right;\n",
       "    }\n",
       "</style>\n",
       "<table border=\"1\" class=\"dataframe\">\n",
       "  <thead>\n",
       "    <tr style=\"text-align: right;\">\n",
       "      <th></th>\n",
       "      <th>lesion_id</th>\n",
       "      <th>image_id</th>\n",
       "      <th>dx</th>\n",
       "      <th>dx_type</th>\n",
       "      <th>age</th>\n",
       "      <th>sex</th>\n",
       "      <th>localization</th>\n",
       "    </tr>\n",
       "  </thead>\n",
       "  <tbody>\n",
       "    <tr>\n",
       "      <th>0</th>\n",
       "      <td>HAM_0000118</td>\n",
       "      <td>ISIC_0027419</td>\n",
       "      <td>bkl</td>\n",
       "      <td>histo</td>\n",
       "      <td>80.0</td>\n",
       "      <td>male</td>\n",
       "      <td>scalp</td>\n",
       "    </tr>\n",
       "    <tr>\n",
       "      <th>1</th>\n",
       "      <td>HAM_0000118</td>\n",
       "      <td>ISIC_0025030</td>\n",
       "      <td>bkl</td>\n",
       "      <td>histo</td>\n",
       "      <td>80.0</td>\n",
       "      <td>male</td>\n",
       "      <td>scalp</td>\n",
       "    </tr>\n",
       "    <tr>\n",
       "      <th>2</th>\n",
       "      <td>HAM_0002730</td>\n",
       "      <td>ISIC_0026769</td>\n",
       "      <td>bkl</td>\n",
       "      <td>histo</td>\n",
       "      <td>80.0</td>\n",
       "      <td>male</td>\n",
       "      <td>scalp</td>\n",
       "    </tr>\n",
       "    <tr>\n",
       "      <th>3</th>\n",
       "      <td>HAM_0002730</td>\n",
       "      <td>ISIC_0025661</td>\n",
       "      <td>bkl</td>\n",
       "      <td>histo</td>\n",
       "      <td>80.0</td>\n",
       "      <td>male</td>\n",
       "      <td>scalp</td>\n",
       "    </tr>\n",
       "    <tr>\n",
       "      <th>4</th>\n",
       "      <td>HAM_0001466</td>\n",
       "      <td>ISIC_0031633</td>\n",
       "      <td>bkl</td>\n",
       "      <td>histo</td>\n",
       "      <td>75.0</td>\n",
       "      <td>male</td>\n",
       "      <td>ear</td>\n",
       "    </tr>\n",
       "  </tbody>\n",
       "</table>\n",
       "</div>"
      ],
      "text/plain": [
       "     lesion_id      image_id   dx dx_type   age   sex localization\n",
       "0  HAM_0000118  ISIC_0027419  bkl   histo  80.0  male        scalp\n",
       "1  HAM_0000118  ISIC_0025030  bkl   histo  80.0  male        scalp\n",
       "2  HAM_0002730  ISIC_0026769  bkl   histo  80.0  male        scalp\n",
       "3  HAM_0002730  ISIC_0025661  bkl   histo  80.0  male        scalp\n",
       "4  HAM_0001466  ISIC_0031633  bkl   histo  75.0  male          ear"
      ]
     },
     "execution_count": 5,
     "metadata": {},
     "output_type": "execute_result"
    }
   ],
   "source": [
    "df.head()"
   ]
  },
  {
   "cell_type": "code",
   "execution_count": 6,
   "id": "41494e49",
   "metadata": {
    "execution": {
     "iopub.execute_input": "2023-06-18T17:52:54.931314Z",
     "iopub.status.busy": "2023-06-18T17:52:54.931025Z",
     "iopub.status.idle": "2023-06-18T17:52:54.936129Z",
     "shell.execute_reply": "2023-06-18T17:52:54.935099Z"
    },
    "papermill": {
     "duration": 0.020098,
     "end_time": "2023-06-18T17:52:54.938239",
     "exception": false,
     "start_time": "2023-06-18T17:52:54.918141",
     "status": "completed"
    },
    "tags": []
   },
   "outputs": [],
   "source": [
    "lesion_type_dict = {\n",
    "    'nv': 'Melanocytic nevi',\n",
    "    'mel': 'dermatofibroma',\n",
    "    'bkl': 'Benign keratosis-like lesions ',\n",
    "    'bcc': 'Basal cell carcinoma',\n",
    "    'akiec': 'Actinic keratoses',\n",
    "    'vasc': 'Vascular lesions',\n",
    "    'df': 'Dermatofibroma'\n",
    "}"
   ]
  },
  {
   "cell_type": "code",
   "execution_count": 7,
   "id": "cdc5b3a1",
   "metadata": {
    "execution": {
     "iopub.execute_input": "2023-06-18T17:52:54.963625Z",
     "iopub.status.busy": "2023-06-18T17:52:54.963150Z",
     "iopub.status.idle": "2023-06-18T17:52:54.982907Z",
     "shell.execute_reply": "2023-06-18T17:52:54.981998Z"
    },
    "papermill": {
     "duration": 0.035124,
     "end_time": "2023-06-18T17:52:54.985083",
     "exception": false,
     "start_time": "2023-06-18T17:52:54.949959",
     "status": "completed"
    },
    "tags": []
   },
   "outputs": [],
   "source": [
    "df['path'] = df['image_id'].map(imageid_path_dict.get)\n",
    "df['cell_type'] = df['dx'].map(lesion_type_dict.get)\n",
    "### Returns categorical values and turns them into integer codes\n",
    "df['cell_type_idx'] = pd.Categorical(df['cell_type']).codes"
   ]
  },
  {
   "cell_type": "code",
   "execution_count": 8,
   "id": "1fd26479",
   "metadata": {
    "execution": {
     "iopub.execute_input": "2023-06-18T17:52:55.011280Z",
     "iopub.status.busy": "2023-06-18T17:52:55.009762Z",
     "iopub.status.idle": "2023-06-18T17:52:55.028097Z",
     "shell.execute_reply": "2023-06-18T17:52:55.027085Z"
    },
    "papermill": {
     "duration": 0.033749,
     "end_time": "2023-06-18T17:52:55.030615",
     "exception": false,
     "start_time": "2023-06-18T17:52:54.996866",
     "status": "completed"
    },
    "tags": []
   },
   "outputs": [
    {
     "data": {
      "text/html": [
       "<div>\n",
       "<style scoped>\n",
       "    .dataframe tbody tr th:only-of-type {\n",
       "        vertical-align: middle;\n",
       "    }\n",
       "\n",
       "    .dataframe tbody tr th {\n",
       "        vertical-align: top;\n",
       "    }\n",
       "\n",
       "    .dataframe thead th {\n",
       "        text-align: right;\n",
       "    }\n",
       "</style>\n",
       "<table border=\"1\" class=\"dataframe\">\n",
       "  <thead>\n",
       "    <tr style=\"text-align: right;\">\n",
       "      <th></th>\n",
       "      <th>lesion_id</th>\n",
       "      <th>image_id</th>\n",
       "      <th>dx</th>\n",
       "      <th>dx_type</th>\n",
       "      <th>age</th>\n",
       "      <th>sex</th>\n",
       "      <th>localization</th>\n",
       "      <th>path</th>\n",
       "      <th>cell_type</th>\n",
       "      <th>cell_type_idx</th>\n",
       "    </tr>\n",
       "  </thead>\n",
       "  <tbody>\n",
       "    <tr>\n",
       "      <th>0</th>\n",
       "      <td>HAM_0000118</td>\n",
       "      <td>ISIC_0027419</td>\n",
       "      <td>bkl</td>\n",
       "      <td>histo</td>\n",
       "      <td>80.0</td>\n",
       "      <td>male</td>\n",
       "      <td>scalp</td>\n",
       "      <td>../input/skin-cancer-mnist-ham10000/ham10000_i...</td>\n",
       "      <td>Benign keratosis-like lesions</td>\n",
       "      <td>2</td>\n",
       "    </tr>\n",
       "    <tr>\n",
       "      <th>1</th>\n",
       "      <td>HAM_0000118</td>\n",
       "      <td>ISIC_0025030</td>\n",
       "      <td>bkl</td>\n",
       "      <td>histo</td>\n",
       "      <td>80.0</td>\n",
       "      <td>male</td>\n",
       "      <td>scalp</td>\n",
       "      <td>../input/skin-cancer-mnist-ham10000/ham10000_i...</td>\n",
       "      <td>Benign keratosis-like lesions</td>\n",
       "      <td>2</td>\n",
       "    </tr>\n",
       "    <tr>\n",
       "      <th>2</th>\n",
       "      <td>HAM_0002730</td>\n",
       "      <td>ISIC_0026769</td>\n",
       "      <td>bkl</td>\n",
       "      <td>histo</td>\n",
       "      <td>80.0</td>\n",
       "      <td>male</td>\n",
       "      <td>scalp</td>\n",
       "      <td>../input/skin-cancer-mnist-ham10000/ham10000_i...</td>\n",
       "      <td>Benign keratosis-like lesions</td>\n",
       "      <td>2</td>\n",
       "    </tr>\n",
       "    <tr>\n",
       "      <th>3</th>\n",
       "      <td>HAM_0002730</td>\n",
       "      <td>ISIC_0025661</td>\n",
       "      <td>bkl</td>\n",
       "      <td>histo</td>\n",
       "      <td>80.0</td>\n",
       "      <td>male</td>\n",
       "      <td>scalp</td>\n",
       "      <td>../input/skin-cancer-mnist-ham10000/ham10000_i...</td>\n",
       "      <td>Benign keratosis-like lesions</td>\n",
       "      <td>2</td>\n",
       "    </tr>\n",
       "    <tr>\n",
       "      <th>4</th>\n",
       "      <td>HAM_0001466</td>\n",
       "      <td>ISIC_0031633</td>\n",
       "      <td>bkl</td>\n",
       "      <td>histo</td>\n",
       "      <td>75.0</td>\n",
       "      <td>male</td>\n",
       "      <td>ear</td>\n",
       "      <td>../input/skin-cancer-mnist-ham10000/ham10000_i...</td>\n",
       "      <td>Benign keratosis-like lesions</td>\n",
       "      <td>2</td>\n",
       "    </tr>\n",
       "  </tbody>\n",
       "</table>\n",
       "</div>"
      ],
      "text/plain": [
       "     lesion_id      image_id   dx dx_type   age   sex localization  \\\n",
       "0  HAM_0000118  ISIC_0027419  bkl   histo  80.0  male        scalp   \n",
       "1  HAM_0000118  ISIC_0025030  bkl   histo  80.0  male        scalp   \n",
       "2  HAM_0002730  ISIC_0026769  bkl   histo  80.0  male        scalp   \n",
       "3  HAM_0002730  ISIC_0025661  bkl   histo  80.0  male        scalp   \n",
       "4  HAM_0001466  ISIC_0031633  bkl   histo  75.0  male          ear   \n",
       "\n",
       "                                                path  \\\n",
       "0  ../input/skin-cancer-mnist-ham10000/ham10000_i...   \n",
       "1  ../input/skin-cancer-mnist-ham10000/ham10000_i...   \n",
       "2  ../input/skin-cancer-mnist-ham10000/ham10000_i...   \n",
       "3  ../input/skin-cancer-mnist-ham10000/ham10000_i...   \n",
       "4  ../input/skin-cancer-mnist-ham10000/ham10000_i...   \n",
       "\n",
       "                        cell_type  cell_type_idx  \n",
       "0  Benign keratosis-like lesions               2  \n",
       "1  Benign keratosis-like lesions               2  \n",
       "2  Benign keratosis-like lesions               2  \n",
       "3  Benign keratosis-like lesions               2  \n",
       "4  Benign keratosis-like lesions               2  "
      ]
     },
     "execution_count": 8,
     "metadata": {},
     "output_type": "execute_result"
    }
   ],
   "source": [
    "df.head()"
   ]
  },
  {
   "cell_type": "code",
   "execution_count": 9,
   "id": "63feb784",
   "metadata": {
    "execution": {
     "iopub.execute_input": "2023-06-18T17:52:55.057172Z",
     "iopub.status.busy": "2023-06-18T17:52:55.055676Z",
     "iopub.status.idle": "2023-06-18T17:52:55.062337Z",
     "shell.execute_reply": "2023-06-18T17:52:55.061355Z"
    },
    "papermill": {
     "duration": 0.021813,
     "end_time": "2023-06-18T17:52:55.064548",
     "exception": false,
     "start_time": "2023-06-18T17:52:55.042735",
     "status": "completed"
    },
    "tags": []
   },
   "outputs": [
    {
     "data": {
      "text/plain": [
       "(10015, 10)"
      ]
     },
     "execution_count": 9,
     "metadata": {},
     "output_type": "execute_result"
    }
   ],
   "source": [
    "df.shape"
   ]
  },
  {
   "cell_type": "code",
   "execution_count": 10,
   "id": "3b7ba9bc",
   "metadata": {
    "execution": {
     "iopub.execute_input": "2023-06-18T17:52:55.100709Z",
     "iopub.status.busy": "2023-06-18T17:52:55.100371Z",
     "iopub.status.idle": "2023-06-18T17:52:55.108091Z",
     "shell.execute_reply": "2023-06-18T17:52:55.106506Z"
    },
    "papermill": {
     "duration": 0.034054,
     "end_time": "2023-06-18T17:52:55.113874",
     "exception": false,
     "start_time": "2023-06-18T17:52:55.079820",
     "status": "completed"
    },
    "tags": []
   },
   "outputs": [],
   "source": [
    "label={\n",
    "    ' Actinic keratoses':0,\n",
    "    'Basal cell carcinoma':1,\n",
    "    'Benign keratosis-like lesions':2,\n",
    "    'Dermatofibroma':3,\n",
    "    'Melanocytic nevi':4,\n",
    "    'Vascular lesions':5,\n",
    "    'Melanoma':6,\n",
    "}"
   ]
  },
  {
   "cell_type": "markdown",
   "id": "7b7a90b1",
   "metadata": {
    "papermill": {
     "duration": 0.01743,
     "end_time": "2023-06-18T17:52:55.152050",
     "exception": false,
     "start_time": "2023-06-18T17:52:55.134620",
     "status": "completed"
    },
    "tags": []
   },
   "source": [
    "## Data Cleaning"
   ]
  },
  {
   "cell_type": "code",
   "execution_count": 11,
   "id": "5d69346d",
   "metadata": {
    "execution": {
     "iopub.execute_input": "2023-06-18T17:52:55.184608Z",
     "iopub.status.busy": "2023-06-18T17:52:55.184252Z",
     "iopub.status.idle": "2023-06-18T17:52:55.203824Z",
     "shell.execute_reply": "2023-06-18T17:52:55.202774Z"
    },
    "papermill": {
     "duration": 0.035302,
     "end_time": "2023-06-18T17:52:55.206156",
     "exception": false,
     "start_time": "2023-06-18T17:52:55.170854",
     "status": "completed"
    },
    "tags": []
   },
   "outputs": [
    {
     "data": {
      "text/plain": [
       "lesion_id         0\n",
       "image_id          0\n",
       "dx                0\n",
       "dx_type           0\n",
       "age              57\n",
       "sex               0\n",
       "localization      0\n",
       "path              0\n",
       "cell_type         0\n",
       "cell_type_idx     0\n",
       "dtype: int64"
      ]
     },
     "execution_count": 11,
     "metadata": {},
     "output_type": "execute_result"
    }
   ],
   "source": [
    "df.isna().sum()"
   ]
  },
  {
   "cell_type": "code",
   "execution_count": 12,
   "id": "31940cd9",
   "metadata": {
    "execution": {
     "iopub.execute_input": "2023-06-18T17:52:55.232131Z",
     "iopub.status.busy": "2023-06-18T17:52:55.231840Z",
     "iopub.status.idle": "2023-06-18T17:52:55.237875Z",
     "shell.execute_reply": "2023-06-18T17:52:55.236981Z"
    },
    "papermill": {
     "duration": 0.021664,
     "end_time": "2023-06-18T17:52:55.240212",
     "exception": false,
     "start_time": "2023-06-18T17:52:55.218548",
     "status": "completed"
    },
    "tags": []
   },
   "outputs": [],
   "source": [
    "## We replace the null values with mean age\n",
    "df['age'].fillna((df['age'].mean()), inplace = True)"
   ]
  },
  {
   "cell_type": "markdown",
   "id": "dcc53eb1",
   "metadata": {
    "papermill": {
     "duration": 0.012089,
     "end_time": "2023-06-18T17:52:55.264565",
     "exception": false,
     "start_time": "2023-06-18T17:52:55.252476",
     "status": "completed"
    },
    "tags": []
   },
   "source": [
    "### Visualizing the images"
   ]
  },
  {
   "cell_type": "code",
   "execution_count": 13,
   "id": "f3aa8c4f",
   "metadata": {
    "execution": {
     "iopub.execute_input": "2023-06-18T17:52:55.291151Z",
     "iopub.status.busy": "2023-06-18T17:52:55.290298Z",
     "iopub.status.idle": "2023-06-18T17:52:59.745482Z",
     "shell.execute_reply": "2023-06-18T17:52:59.744426Z"
    },
    "papermill": {
     "duration": 4.471292,
     "end_time": "2023-06-18T17:52:59.748296",
     "exception": false,
     "start_time": "2023-06-18T17:52:55.277004",
     "status": "completed"
    },
    "tags": []
   },
   "outputs": [],
   "source": [
    "img_data = pd.read_csv('/kaggle/input/skin-cancer-mnist-ham10000/hmnist_28_28_RGB.csv')"
   ]
  },
  {
   "cell_type": "code",
   "execution_count": 14,
   "id": "73eb6ac1",
   "metadata": {
    "execution": {
     "iopub.execute_input": "2023-06-18T17:52:59.776160Z",
     "iopub.status.busy": "2023-06-18T17:52:59.775829Z",
     "iopub.status.idle": "2023-06-18T17:52:59.799192Z",
     "shell.execute_reply": "2023-06-18T17:52:59.798112Z"
    },
    "papermill": {
     "duration": 0.039902,
     "end_time": "2023-06-18T17:52:59.801750",
     "exception": false,
     "start_time": "2023-06-18T17:52:59.761848",
     "status": "completed"
    },
    "tags": []
   },
   "outputs": [
    {
     "data": {
      "text/html": [
       "<div>\n",
       "<style scoped>\n",
       "    .dataframe tbody tr th:only-of-type {\n",
       "        vertical-align: middle;\n",
       "    }\n",
       "\n",
       "    .dataframe tbody tr th {\n",
       "        vertical-align: top;\n",
       "    }\n",
       "\n",
       "    .dataframe thead th {\n",
       "        text-align: right;\n",
       "    }\n",
       "</style>\n",
       "<table border=\"1\" class=\"dataframe\">\n",
       "  <thead>\n",
       "    <tr style=\"text-align: right;\">\n",
       "      <th></th>\n",
       "      <th>pixel0000</th>\n",
       "      <th>pixel0001</th>\n",
       "      <th>pixel0002</th>\n",
       "      <th>pixel0003</th>\n",
       "      <th>pixel0004</th>\n",
       "      <th>pixel0005</th>\n",
       "      <th>pixel0006</th>\n",
       "      <th>pixel0007</th>\n",
       "      <th>pixel0008</th>\n",
       "      <th>pixel0009</th>\n",
       "      <th>...</th>\n",
       "      <th>pixel2343</th>\n",
       "      <th>pixel2344</th>\n",
       "      <th>pixel2345</th>\n",
       "      <th>pixel2346</th>\n",
       "      <th>pixel2347</th>\n",
       "      <th>pixel2348</th>\n",
       "      <th>pixel2349</th>\n",
       "      <th>pixel2350</th>\n",
       "      <th>pixel2351</th>\n",
       "      <th>label</th>\n",
       "    </tr>\n",
       "  </thead>\n",
       "  <tbody>\n",
       "    <tr>\n",
       "      <th>7742</th>\n",
       "      <td>167</td>\n",
       "      <td>141</td>\n",
       "      <td>140</td>\n",
       "      <td>174</td>\n",
       "      <td>148</td>\n",
       "      <td>149</td>\n",
       "      <td>176</td>\n",
       "      <td>154</td>\n",
       "      <td>156</td>\n",
       "      <td>178</td>\n",
       "      <td>...</td>\n",
       "      <td>178</td>\n",
       "      <td>153</td>\n",
       "      <td>151</td>\n",
       "      <td>177</td>\n",
       "      <td>151</td>\n",
       "      <td>150</td>\n",
       "      <td>179</td>\n",
       "      <td>153</td>\n",
       "      <td>153</td>\n",
       "      <td>4</td>\n",
       "    </tr>\n",
       "    <tr>\n",
       "      <th>2247</th>\n",
       "      <td>178</td>\n",
       "      <td>139</td>\n",
       "      <td>147</td>\n",
       "      <td>182</td>\n",
       "      <td>143</td>\n",
       "      <td>153</td>\n",
       "      <td>186</td>\n",
       "      <td>152</td>\n",
       "      <td>162</td>\n",
       "      <td>188</td>\n",
       "      <td>...</td>\n",
       "      <td>187</td>\n",
       "      <td>148</td>\n",
       "      <td>146</td>\n",
       "      <td>186</td>\n",
       "      <td>147</td>\n",
       "      <td>146</td>\n",
       "      <td>186</td>\n",
       "      <td>148</td>\n",
       "      <td>147</td>\n",
       "      <td>6</td>\n",
       "    </tr>\n",
       "    <tr>\n",
       "      <th>7071</th>\n",
       "      <td>176</td>\n",
       "      <td>154</td>\n",
       "      <td>172</td>\n",
       "      <td>177</td>\n",
       "      <td>157</td>\n",
       "      <td>178</td>\n",
       "      <td>177</td>\n",
       "      <td>156</td>\n",
       "      <td>178</td>\n",
       "      <td>180</td>\n",
       "      <td>...</td>\n",
       "      <td>179</td>\n",
       "      <td>160</td>\n",
       "      <td>178</td>\n",
       "      <td>176</td>\n",
       "      <td>156</td>\n",
       "      <td>171</td>\n",
       "      <td>170</td>\n",
       "      <td>148</td>\n",
       "      <td>160</td>\n",
       "      <td>4</td>\n",
       "    </tr>\n",
       "    <tr>\n",
       "      <th>5861</th>\n",
       "      <td>226</td>\n",
       "      <td>141</td>\n",
       "      <td>155</td>\n",
       "      <td>224</td>\n",
       "      <td>135</td>\n",
       "      <td>148</td>\n",
       "      <td>223</td>\n",
       "      <td>135</td>\n",
       "      <td>147</td>\n",
       "      <td>226</td>\n",
       "      <td>...</td>\n",
       "      <td>214</td>\n",
       "      <td>142</td>\n",
       "      <td>154</td>\n",
       "      <td>213</td>\n",
       "      <td>140</td>\n",
       "      <td>153</td>\n",
       "      <td>210</td>\n",
       "      <td>137</td>\n",
       "      <td>151</td>\n",
       "      <td>4</td>\n",
       "    </tr>\n",
       "    <tr>\n",
       "      <th>1955</th>\n",
       "      <td>232</td>\n",
       "      <td>206</td>\n",
       "      <td>230</td>\n",
       "      <td>238</td>\n",
       "      <td>211</td>\n",
       "      <td>229</td>\n",
       "      <td>239</td>\n",
       "      <td>207</td>\n",
       "      <td>217</td>\n",
       "      <td>239</td>\n",
       "      <td>...</td>\n",
       "      <td>246</td>\n",
       "      <td>203</td>\n",
       "      <td>220</td>\n",
       "      <td>247</td>\n",
       "      <td>202</td>\n",
       "      <td>215</td>\n",
       "      <td>244</td>\n",
       "      <td>196</td>\n",
       "      <td>203</td>\n",
       "      <td>6</td>\n",
       "    </tr>\n",
       "    <tr>\n",
       "      <th>1873</th>\n",
       "      <td>61</td>\n",
       "      <td>40</td>\n",
       "      <td>57</td>\n",
       "      <td>123</td>\n",
       "      <td>92</td>\n",
       "      <td>111</td>\n",
       "      <td>155</td>\n",
       "      <td>124</td>\n",
       "      <td>144</td>\n",
       "      <td>164</td>\n",
       "      <td>...</td>\n",
       "      <td>166</td>\n",
       "      <td>147</td>\n",
       "      <td>173</td>\n",
       "      <td>123</td>\n",
       "      <td>102</td>\n",
       "      <td>128</td>\n",
       "      <td>53</td>\n",
       "      <td>34</td>\n",
       "      <td>53</td>\n",
       "      <td>6</td>\n",
       "    </tr>\n",
       "    <tr>\n",
       "      <th>4206</th>\n",
       "      <td>211</td>\n",
       "      <td>118</td>\n",
       "      <td>130</td>\n",
       "      <td>213</td>\n",
       "      <td>121</td>\n",
       "      <td>132</td>\n",
       "      <td>220</td>\n",
       "      <td>129</td>\n",
       "      <td>140</td>\n",
       "      <td>219</td>\n",
       "      <td>...</td>\n",
       "      <td>201</td>\n",
       "      <td>129</td>\n",
       "      <td>113</td>\n",
       "      <td>198</td>\n",
       "      <td>124</td>\n",
       "      <td>105</td>\n",
       "      <td>197</td>\n",
       "      <td>127</td>\n",
       "      <td>110</td>\n",
       "      <td>4</td>\n",
       "    </tr>\n",
       "    <tr>\n",
       "      <th>6610</th>\n",
       "      <td>232</td>\n",
       "      <td>157</td>\n",
       "      <td>176</td>\n",
       "      <td>231</td>\n",
       "      <td>155</td>\n",
       "      <td>175</td>\n",
       "      <td>228</td>\n",
       "      <td>153</td>\n",
       "      <td>174</td>\n",
       "      <td>229</td>\n",
       "      <td>...</td>\n",
       "      <td>214</td>\n",
       "      <td>148</td>\n",
       "      <td>155</td>\n",
       "      <td>213</td>\n",
       "      <td>148</td>\n",
       "      <td>154</td>\n",
       "      <td>211</td>\n",
       "      <td>148</td>\n",
       "      <td>155</td>\n",
       "      <td>4</td>\n",
       "    </tr>\n",
       "    <tr>\n",
       "      <th>8629</th>\n",
       "      <td>191</td>\n",
       "      <td>162</td>\n",
       "      <td>179</td>\n",
       "      <td>197</td>\n",
       "      <td>170</td>\n",
       "      <td>189</td>\n",
       "      <td>198</td>\n",
       "      <td>169</td>\n",
       "      <td>184</td>\n",
       "      <td>203</td>\n",
       "      <td>...</td>\n",
       "      <td>175</td>\n",
       "      <td>138</td>\n",
       "      <td>147</td>\n",
       "      <td>175</td>\n",
       "      <td>142</td>\n",
       "      <td>152</td>\n",
       "      <td>158</td>\n",
       "      <td>121</td>\n",
       "      <td>124</td>\n",
       "      <td>4</td>\n",
       "    </tr>\n",
       "    <tr>\n",
       "      <th>4819</th>\n",
       "      <td>224</td>\n",
       "      <td>151</td>\n",
       "      <td>164</td>\n",
       "      <td>226</td>\n",
       "      <td>154</td>\n",
       "      <td>167</td>\n",
       "      <td>226</td>\n",
       "      <td>152</td>\n",
       "      <td>166</td>\n",
       "      <td>227</td>\n",
       "      <td>...</td>\n",
       "      <td>214</td>\n",
       "      <td>145</td>\n",
       "      <td>140</td>\n",
       "      <td>212</td>\n",
       "      <td>142</td>\n",
       "      <td>139</td>\n",
       "      <td>212</td>\n",
       "      <td>143</td>\n",
       "      <td>144</td>\n",
       "      <td>4</td>\n",
       "    </tr>\n",
       "  </tbody>\n",
       "</table>\n",
       "<p>10 rows × 2353 columns</p>\n",
       "</div>"
      ],
      "text/plain": [
       "      pixel0000  pixel0001  pixel0002  pixel0003  pixel0004  pixel0005  \\\n",
       "7742        167        141        140        174        148        149   \n",
       "2247        178        139        147        182        143        153   \n",
       "7071        176        154        172        177        157        178   \n",
       "5861        226        141        155        224        135        148   \n",
       "1955        232        206        230        238        211        229   \n",
       "1873         61         40         57        123         92        111   \n",
       "4206        211        118        130        213        121        132   \n",
       "6610        232        157        176        231        155        175   \n",
       "8629        191        162        179        197        170        189   \n",
       "4819        224        151        164        226        154        167   \n",
       "\n",
       "      pixel0006  pixel0007  pixel0008  pixel0009  ...  pixel2343  pixel2344  \\\n",
       "7742        176        154        156        178  ...        178        153   \n",
       "2247        186        152        162        188  ...        187        148   \n",
       "7071        177        156        178        180  ...        179        160   \n",
       "5861        223        135        147        226  ...        214        142   \n",
       "1955        239        207        217        239  ...        246        203   \n",
       "1873        155        124        144        164  ...        166        147   \n",
       "4206        220        129        140        219  ...        201        129   \n",
       "6610        228        153        174        229  ...        214        148   \n",
       "8629        198        169        184        203  ...        175        138   \n",
       "4819        226        152        166        227  ...        214        145   \n",
       "\n",
       "      pixel2345  pixel2346  pixel2347  pixel2348  pixel2349  pixel2350  \\\n",
       "7742        151        177        151        150        179        153   \n",
       "2247        146        186        147        146        186        148   \n",
       "7071        178        176        156        171        170        148   \n",
       "5861        154        213        140        153        210        137   \n",
       "1955        220        247        202        215        244        196   \n",
       "1873        173        123        102        128         53         34   \n",
       "4206        113        198        124        105        197        127   \n",
       "6610        155        213        148        154        211        148   \n",
       "8629        147        175        142        152        158        121   \n",
       "4819        140        212        142        139        212        143   \n",
       "\n",
       "      pixel2351  label  \n",
       "7742        153      4  \n",
       "2247        147      6  \n",
       "7071        160      4  \n",
       "5861        151      4  \n",
       "1955        203      6  \n",
       "1873         53      6  \n",
       "4206        110      4  \n",
       "6610        155      4  \n",
       "8629        124      4  \n",
       "4819        144      4  \n",
       "\n",
       "[10 rows x 2353 columns]"
      ]
     },
     "execution_count": 14,
     "metadata": {},
     "output_type": "execute_result"
    }
   ],
   "source": [
    "img_data.sample(10)"
   ]
  },
  {
   "cell_type": "code",
   "execution_count": 15,
   "id": "5c045c84",
   "metadata": {
    "execution": {
     "iopub.execute_input": "2023-06-18T17:52:59.829397Z",
     "iopub.status.busy": "2023-06-18T17:52:59.828787Z",
     "iopub.status.idle": "2023-06-18T17:52:59.910178Z",
     "shell.execute_reply": "2023-06-18T17:52:59.909162Z"
    },
    "papermill": {
     "duration": 0.097764,
     "end_time": "2023-06-18T17:52:59.912842",
     "exception": false,
     "start_time": "2023-06-18T17:52:59.815078",
     "status": "completed"
    },
    "tags": []
   },
   "outputs": [],
   "source": [
    "img_rescale = img_data/255"
   ]
  },
  {
   "cell_type": "code",
   "execution_count": 16,
   "id": "4f531674",
   "metadata": {
    "execution": {
     "iopub.execute_input": "2023-06-18T17:52:59.940531Z",
     "iopub.status.busy": "2023-06-18T17:52:59.940183Z",
     "iopub.status.idle": "2023-06-18T17:52:59.946951Z",
     "shell.execute_reply": "2023-06-18T17:52:59.945956Z"
    },
    "papermill": {
     "duration": 0.023031,
     "end_time": "2023-06-18T17:52:59.949153",
     "exception": false,
     "start_time": "2023-06-18T17:52:59.926122",
     "status": "completed"
    },
    "tags": []
   },
   "outputs": [
    {
     "data": {
      "text/plain": [
       "(10015, 2353)"
      ]
     },
     "execution_count": 16,
     "metadata": {},
     "output_type": "execute_result"
    }
   ],
   "source": [
    "img_rescale.shape"
   ]
  },
  {
   "cell_type": "code",
   "execution_count": 17,
   "id": "44e8cfd5",
   "metadata": {
    "execution": {
     "iopub.execute_input": "2023-06-18T17:52:59.976348Z",
     "iopub.status.busy": "2023-06-18T17:52:59.976053Z",
     "iopub.status.idle": "2023-06-18T17:53:00.029755Z",
     "shell.execute_reply": "2023-06-18T17:53:00.028485Z"
    },
    "papermill": {
     "duration": 0.070007,
     "end_time": "2023-06-18T17:53:00.032070",
     "exception": false,
     "start_time": "2023-06-18T17:52:59.962063",
     "status": "completed"
    },
    "tags": []
   },
   "outputs": [
    {
     "data": {
      "text/plain": [
       "pixel0000    0\n",
       "pixel0001    0\n",
       "pixel0002    0\n",
       "pixel0003    0\n",
       "pixel0004    0\n",
       "            ..\n",
       "pixel2348    0\n",
       "pixel2349    0\n",
       "pixel2350    0\n",
       "pixel2351    0\n",
       "label        0\n",
       "Length: 2353, dtype: int64"
      ]
     },
     "execution_count": 17,
     "metadata": {},
     "output_type": "execute_result"
    }
   ],
   "source": [
    "img_rescale.isnull().sum()"
   ]
  },
  {
   "cell_type": "code",
   "execution_count": 18,
   "id": "bf52d6bc",
   "metadata": {
    "execution": {
     "iopub.execute_input": "2023-06-18T17:53:00.064169Z",
     "iopub.status.busy": "2023-06-18T17:53:00.063867Z",
     "iopub.status.idle": "2023-06-18T17:53:01.428852Z",
     "shell.execute_reply": "2023-06-18T17:53:01.427866Z"
    },
    "papermill": {
     "duration": 1.382315,
     "end_time": "2023-06-18T17:53:01.431905",
     "exception": false,
     "start_time": "2023-06-18T17:53:00.049590",
     "status": "completed"
    },
    "tags": []
   },
   "outputs": [
    {
     "data": {
      "image/png": "[encoded data removed]",
      "text/plain": [
       "<Figure size 576x576 with 16 Axes>"
      ]
     },
     "metadata": {
      "needs_background": "light"
     },
     "output_type": "display_data"
    }
   ],
   "source": [
    "import matplotlib.pyplot as plt\n",
    "plt.figure(figsize = (8,8))\n",
    "for i in range(16):\n",
    "    plt.subplot(4,4,i+1)\n",
    "    plt.imshow(img_rescale.iloc[i, :2352].values.reshape(28,28,3))\n",
    "    plt.title(img_data.iloc[i,2352])\n",
    "    "
   ]
  },
  {
   "cell_type": "markdown",
   "id": "c6c3b585",
   "metadata": {
    "papermill": {
     "duration": 0.014123,
     "end_time": "2023-06-18T17:53:01.460530",
     "exception": false,
     "start_time": "2023-06-18T17:53:01.446407",
     "status": "completed"
    },
    "tags": []
   },
   "source": [
    "### Splitting the dataset"
   ]
  },
  {
   "cell_type": "code",
   "execution_count": 19,
   "id": "e256f601",
   "metadata": {
    "execution": {
     "iopub.execute_input": "2023-06-18T17:53:01.489943Z",
     "iopub.status.busy": "2023-06-18T17:53:01.489622Z",
     "iopub.status.idle": "2023-06-18T17:53:01.505845Z",
     "shell.execute_reply": "2023-06-18T17:53:01.504700Z"
    },
    "papermill": {
     "duration": 0.03487,
     "end_time": "2023-06-18T17:53:01.509490",
     "exception": false,
     "start_time": "2023-06-18T17:53:01.474620",
     "status": "completed"
    },
    "tags": []
   },
   "outputs": [
    {
     "data": {
      "text/html": [
       "<div>\n",
       "<style scoped>\n",
       "    .dataframe tbody tr th:only-of-type {\n",
       "        vertical-align: middle;\n",
       "    }\n",
       "\n",
       "    .dataframe tbody tr th {\n",
       "        vertical-align: top;\n",
       "    }\n",
       "\n",
       "    .dataframe thead th {\n",
       "        text-align: right;\n",
       "    }\n",
       "</style>\n",
       "<table border=\"1\" class=\"dataframe\">\n",
       "  <thead>\n",
       "    <tr style=\"text-align: right;\">\n",
       "      <th></th>\n",
       "      <th>lesion_id</th>\n",
       "      <th>image_id</th>\n",
       "      <th>dx</th>\n",
       "      <th>dx_type</th>\n",
       "      <th>age</th>\n",
       "      <th>sex</th>\n",
       "      <th>localization</th>\n",
       "      <th>path</th>\n",
       "      <th>cell_type</th>\n",
       "      <th>cell_type_idx</th>\n",
       "    </tr>\n",
       "  </thead>\n",
       "  <tbody>\n",
       "    <tr>\n",
       "      <th>0</th>\n",
       "      <td>HAM_0000118</td>\n",
       "      <td>ISIC_0027419</td>\n",
       "      <td>bkl</td>\n",
       "      <td>histo</td>\n",
       "      <td>80.0</td>\n",
       "      <td>male</td>\n",
       "      <td>scalp</td>\n",
       "      <td>../input/skin-cancer-mnist-ham10000/ham10000_i...</td>\n",
       "      <td>Benign keratosis-like lesions</td>\n",
       "      <td>2</td>\n",
       "    </tr>\n",
       "    <tr>\n",
       "      <th>1</th>\n",
       "      <td>HAM_0000118</td>\n",
       "      <td>ISIC_0025030</td>\n",
       "      <td>bkl</td>\n",
       "      <td>histo</td>\n",
       "      <td>80.0</td>\n",
       "      <td>male</td>\n",
       "      <td>scalp</td>\n",
       "      <td>../input/skin-cancer-mnist-ham10000/ham10000_i...</td>\n",
       "      <td>Benign keratosis-like lesions</td>\n",
       "      <td>2</td>\n",
       "    </tr>\n",
       "    <tr>\n",
       "      <th>2</th>\n",
       "      <td>HAM_0002730</td>\n",
       "      <td>ISIC_0026769</td>\n",
       "      <td>bkl</td>\n",
       "      <td>histo</td>\n",
       "      <td>80.0</td>\n",
       "      <td>male</td>\n",
       "      <td>scalp</td>\n",
       "      <td>../input/skin-cancer-mnist-ham10000/ham10000_i...</td>\n",
       "      <td>Benign keratosis-like lesions</td>\n",
       "      <td>2</td>\n",
       "    </tr>\n",
       "    <tr>\n",
       "      <th>3</th>\n",
       "      <td>HAM_0002730</td>\n",
       "      <td>ISIC_0025661</td>\n",
       "      <td>bkl</td>\n",
       "      <td>histo</td>\n",
       "      <td>80.0</td>\n",
       "      <td>male</td>\n",
       "      <td>scalp</td>\n",
       "      <td>../input/skin-cancer-mnist-ham10000/ham10000_i...</td>\n",
       "      <td>Benign keratosis-like lesions</td>\n",
       "      <td>2</td>\n",
       "    </tr>\n",
       "    <tr>\n",
       "      <th>4</th>\n",
       "      <td>HAM_0001466</td>\n",
       "      <td>ISIC_0031633</td>\n",
       "      <td>bkl</td>\n",
       "      <td>histo</td>\n",
       "      <td>75.0</td>\n",
       "      <td>male</td>\n",
       "      <td>ear</td>\n",
       "      <td>../input/skin-cancer-mnist-ham10000/ham10000_i...</td>\n",
       "      <td>Benign keratosis-like lesions</td>\n",
       "      <td>2</td>\n",
       "    </tr>\n",
       "  </tbody>\n",
       "</table>\n",
       "</div>"
      ],
      "text/plain": [
       "     lesion_id      image_id   dx dx_type   age   sex localization  \\\n",
       "0  HAM_0000118  ISIC_0027419  bkl   histo  80.0  male        scalp   \n",
       "1  HAM_0000118  ISIC_0025030  bkl   histo  80.0  male        scalp   \n",
       "2  HAM_0002730  ISIC_0026769  bkl   histo  80.0  male        scalp   \n",
       "3  HAM_0002730  ISIC_0025661  bkl   histo  80.0  male        scalp   \n",
       "4  HAM_0001466  ISIC_0031633  bkl   histo  75.0  male          ear   \n",
       "\n",
       "                                                path  \\\n",
       "0  ../input/skin-cancer-mnist-ham10000/ham10000_i...   \n",
       "1  ../input/skin-cancer-mnist-ham10000/ham10000_i...   \n",
       "2  ../input/skin-cancer-mnist-ham10000/ham10000_i...   \n",
       "3  ../input/skin-cancer-mnist-ham10000/ham10000_i...   \n",
       "4  ../input/skin-cancer-mnist-ham10000/ham10000_i...   \n",
       "\n",
       "                        cell_type  cell_type_idx  \n",
       "0  Benign keratosis-like lesions               2  \n",
       "1  Benign keratosis-like lesions               2  \n",
       "2  Benign keratosis-like lesions               2  \n",
       "3  Benign keratosis-like lesions               2  \n",
       "4  Benign keratosis-like lesions               2  "
      ]
     },
     "execution_count": 19,
     "metadata": {},
     "output_type": "execute_result"
    }
   ],
   "source": [
    "df.head()"
   ]
  },
  {
   "cell_type": "markdown",
   "id": "d0e9c1fe",
   "metadata": {
    "papermill": {
     "duration": 0.014218,
     "end_time": "2023-06-18T17:53:01.538041",
     "exception": false,
     "start_time": "2023-06-18T17:53:01.523823",
     "status": "completed"
    },
    "tags": []
   },
   "source": [
    "### Resizing the image\n",
    "\n",
    "\n"
   ]
  },
  {
   "cell_type": "code",
   "execution_count": 20,
   "id": "d773966e",
   "metadata": {
    "execution": {
     "iopub.execute_input": "2023-06-18T17:53:01.568544Z",
     "iopub.status.busy": "2023-06-18T17:53:01.567694Z",
     "iopub.status.idle": "2023-06-18T17:56:34.591971Z",
     "shell.execute_reply": "2023-06-18T17:56:34.590869Z"
    },
    "papermill": {
     "duration": 213.042426,
     "end_time": "2023-06-18T17:56:34.594908",
     "exception": false,
     "start_time": "2023-06-18T17:53:01.552482",
     "status": "completed"
    },
    "tags": []
   },
   "outputs": [],
   "source": [
    "df['image'] = df['path'].map(lambda x: np.asarray(Image.open(x).resize((100,100))))"
   ]
  },
  {
   "cell_type": "code",
   "execution_count": 21,
   "id": "e5e5b137",
   "metadata": {
    "execution": {
     "iopub.execute_input": "2023-06-18T17:56:34.628192Z",
     "iopub.status.busy": "2023-06-18T17:56:34.626280Z",
     "iopub.status.idle": "2023-06-18T17:56:34.643362Z",
     "shell.execute_reply": "2023-06-18T17:56:34.642423Z"
    },
    "papermill": {
     "duration": 0.035169,
     "end_time": "2023-06-18T17:56:34.645605",
     "exception": false,
     "start_time": "2023-06-18T17:56:34.610436",
     "status": "completed"
    },
    "tags": []
   },
   "outputs": [
    {
     "data": {
      "text/plain": [
       "(100, 100, 3)    10015\n",
       "Name: image, dtype: int64"
      ]
     },
     "execution_count": 21,
     "metadata": {},
     "output_type": "execute_result"
    }
   ],
   "source": [
    "\n",
    "\n",
    "df['image'].map(lambda x: x.shape).value_counts()\n",
    "\n"
   ]
  },
  {
   "cell_type": "code",
   "execution_count": 22,
   "id": "d88db19b",
   "metadata": {
    "execution": {
     "iopub.execute_input": "2023-06-18T17:56:34.676189Z",
     "iopub.status.busy": "2023-06-18T17:56:34.675873Z",
     "iopub.status.idle": "2023-06-18T17:56:40.278032Z",
     "shell.execute_reply": "2023-06-18T17:56:40.276949Z"
    },
    "papermill": {
     "duration": 5.620591,
     "end_time": "2023-06-18T17:56:40.280712",
     "exception": false,
     "start_time": "2023-06-18T17:56:34.660121",
     "status": "completed"
    },
    "tags": []
   },
   "outputs": [],
   "source": [
    "from tensorflow.keras.utils import to_categorical\n",
    "\n",
    "features = df.drop(columns = ['cell_type_idx'], axis = 1)\n",
    "label = df['cell_type_idx']"
   ]
  },
  {
   "cell_type": "code",
   "execution_count": 23,
   "id": "50d2d20c",
   "metadata": {
    "execution": {
     "iopub.execute_input": "2023-06-18T17:56:40.313016Z",
     "iopub.status.busy": "2023-06-18T17:56:40.312405Z",
     "iopub.status.idle": "2023-06-18T17:56:40.934480Z",
     "shell.execute_reply": "2023-06-18T17:56:40.933401Z"
    },
    "papermill": {
     "duration": 0.640916,
     "end_time": "2023-06-18T17:56:40.937031",
     "exception": false,
     "start_time": "2023-06-18T17:56:40.296115",
     "status": "completed"
    },
    "tags": []
   },
   "outputs": [],
   "source": [
    "from sklearn.model_selection import train_test_split\n",
    "X_train_data, X_test_data, y_train_data, y_test_data = train_test_split(features, label, test_size = 0.2)"
   ]
  },
  {
   "cell_type": "markdown",
   "id": "5251390f",
   "metadata": {
    "papermill": {
     "duration": 0.014728,
     "end_time": "2023-06-18T17:56:40.966421",
     "exception": false,
     "start_time": "2023-06-18T17:56:40.951693",
     "status": "completed"
    },
    "tags": []
   },
   "source": [
    "### Normalization"
   ]
  },
  {
   "cell_type": "code",
   "execution_count": 24,
   "id": "c319a804",
   "metadata": {
    "execution": {
     "iopub.execute_input": "2023-06-18T17:56:40.997133Z",
     "iopub.status.busy": "2023-06-18T17:56:40.996772Z",
     "iopub.status.idle": "2023-06-18T17:56:43.577951Z",
     "shell.execute_reply": "2023-06-18T17:56:43.576809Z"
    },
    "papermill": {
     "duration": 2.600008,
     "end_time": "2023-06-18T17:56:43.581158",
     "exception": false,
     "start_time": "2023-06-18T17:56:40.981150",
     "status": "completed"
    },
    "tags": []
   },
   "outputs": [],
   "source": [
    "x_train = np.asarray(X_train_data['image'].tolist())\n",
    "x_test = np.asarray(X_test_data['image'].tolist())\n",
    "\n",
    "x_train_mean = np.mean(x_train)\n",
    "x_train_std = np.std(x_train)\n",
    "\n",
    "x_test_mean = np.mean(x_test)\n",
    "x_test_std = np.std(x_test)\n",
    "\n",
    "X_train = (x_train - x_train_mean)/x_train_std\n",
    "X_test = (x_test - x_test_mean)/x_test_std"
   ]
  },
  {
   "cell_type": "code",
   "execution_count": 25,
   "id": "547a3ba2",
   "metadata": {
    "execution": {
     "iopub.execute_input": "2023-06-18T17:56:43.612384Z",
     "iopub.status.busy": "2023-06-18T17:56:43.612055Z",
     "iopub.status.idle": "2023-06-18T17:56:43.628785Z",
     "shell.execute_reply": "2023-06-18T17:56:43.627729Z"
    },
    "papermill": {
     "duration": 0.035572,
     "end_time": "2023-06-18T17:56:43.631849",
     "exception": false,
     "start_time": "2023-06-18T17:56:43.596277",
     "status": "completed"
    },
    "tags": []
   },
   "outputs": [
    {
     "data": {
      "text/plain": [
       "array([[[[-0.6154167 , -1.21754232, -1.11001989],\n",
       "         [-0.57240773, -1.19603784, -1.06701092],\n",
       "         [-0.55090324, -1.23904681, -1.0885154 ],\n",
       "         ...,\n",
       "         [-0.35736286, -0.937984  , -0.50789427],\n",
       "         [-0.44338081, -1.0885154 , -0.67993016],\n",
       "         [-0.52939876, -1.21754232, -0.80895708]],\n",
       "\n",
       "        [[-0.6154167 , -1.28205578, -1.15302886],\n",
       "         [-0.6154167 , -1.28205578, -1.13152438],\n",
       "         [-0.55090324, -1.23904681, -1.11001989],\n",
       "         ...,\n",
       "         [-0.37886735, -1.06701092, -0.57240773],\n",
       "         [-0.42187632, -1.0885154 , -0.63692119],\n",
       "         [-0.52939876, -1.21754232, -0.85196605]],\n",
       "\n",
       "        [[-0.63692119, -1.34656924, -1.32506475],\n",
       "         [-0.57240773, -1.28205578, -1.17453335],\n",
       "         [-0.52939876, -1.21754232, -1.13152438],\n",
       "         ...,\n",
       "         [-0.40037184, -1.0885154 , -0.57240773],\n",
       "         [-0.44338081, -1.06701092, -0.6154167 ],\n",
       "         [-0.50789427, -1.21754232, -0.83046157]],\n",
       "\n",
       "        ...,\n",
       "\n",
       "        [[-0.05630005, -0.57240773, -0.44338081],\n",
       "         [ 0.00821341, -0.48638978, -0.29284941],\n",
       "         [ 0.05122238, -0.42187632, -0.20683146],\n",
       "         ...,\n",
       "         [-0.12081351, -0.50789427, -0.18532697],\n",
       "         [-0.16382249, -0.57240773, -0.22833595],\n",
       "         [-0.18532697, -0.6154167 , -0.29284941]],\n",
       "\n",
       "        [[-0.09930903, -0.63692119, -0.59391222],\n",
       "         [-0.03479557, -0.50789427, -0.40037184],\n",
       "         [ 0.05122238, -0.42187632, -0.22833595],\n",
       "         ...,\n",
       "         [-0.142318  , -0.55090324, -0.27134492],\n",
       "         [-0.142318  , -0.55090324, -0.20683146],\n",
       "         [-0.16382249, -0.6154167 , -0.24984043]],\n",
       "\n",
       "        [[-0.12081351, -0.65842567, -0.6154167 ],\n",
       "         [-0.05630005, -0.55090324, -0.50789427],\n",
       "         [ 0.02971789, -0.42187632, -0.31435389],\n",
       "         ...,\n",
       "         [-0.12081351, -0.48638978, -0.16382249],\n",
       "         [-0.16382249, -0.52939876, -0.20683146],\n",
       "         [-0.18532697, -0.59391222, -0.27134492]]],\n",
       "\n",
       "\n",
       "       [[[-0.16382249, -0.87347054, -0.57240773],\n",
       "         [-0.142318  , -0.91647951, -0.72293913],\n",
       "         [-0.16382249, -0.95948849, -0.78745259],\n",
       "         ...,\n",
       "         [-0.20683146, -0.52939876, -0.07780454],\n",
       "         [-0.40037184, -0.72293913, -0.27134492],\n",
       "         [-0.4648853 , -0.80895708, -0.33585838]],\n",
       "\n",
       "        [[-0.20683146, -1.04550643, -0.70143465],\n",
       "         [-0.09930903, -0.85196605, -0.59391222],\n",
       "         [-0.12081351, -0.85196605, -0.63692119],\n",
       "         ...,\n",
       "         [-0.18532697, -0.50789427, -0.05630005],\n",
       "         [-0.35736286, -0.76594811, -0.29284941],\n",
       "         [-0.44338081, -0.83046157, -0.37886735]],\n",
       "\n",
       "        [[-0.20683146, -1.0885154 , -0.70143465],\n",
       "         [-0.05630005, -0.76594811, -0.42187632],\n",
       "         [ 0.02971789, -0.6154167 , -0.29284941],\n",
       "         ...,\n",
       "         [-0.142318  , -0.48638978, -0.05630005],\n",
       "         [-0.33585838, -0.80895708, -0.31435389],\n",
       "         [-0.4648853 , -0.95948849, -0.4648853 ]],\n",
       "\n",
       "        ...,\n",
       "\n",
       "        [[ 0.1802493 , -0.142318  ,  0.24476276],\n",
       "         [ 0.22325827, -0.12081351,  0.26626724],\n",
       "         [ 0.20175378, -0.29284941,  0.02971789],\n",
       "         ...,\n",
       "         [-0.33585838, -1.02400194, -0.50789427],\n",
       "         [-0.4648853 , -1.11001989, -0.67993016],\n",
       "         [-0.59391222, -1.21754232, -0.76594811]],\n",
       "\n",
       "        [[ 0.1802493 , -0.16382249,  0.20175378],\n",
       "         [ 0.20175378, -0.16382249,  0.22325827],\n",
       "         [ 0.22325827, -0.22833595,  0.13724032],\n",
       "         ...,\n",
       "         [-0.48638978, -1.15302886, -0.70143465],\n",
       "         [-0.52939876, -1.13152438, -0.70143465],\n",
       "         [-0.65842567, -1.30356027, -0.80895708]],\n",
       "\n",
       "        [[ 0.13724032, -0.22833595,  0.13724032],\n",
       "         [ 0.15874481, -0.24984043,  0.05122238],\n",
       "         [ 0.24476276, -0.142318  ,  0.15874481],\n",
       "         ...,\n",
       "         [-0.55090324, -1.23904681, -0.78745259],\n",
       "         [-0.67993016, -1.38957821, -0.91647951],\n",
       "         [-0.74444362, -1.38957821, -0.87347054]]],\n",
       "\n",
       "\n",
       "       [[[ 1.23396913, -0.57240773, -0.16382249],\n",
       "         [ 1.23396913, -0.57240773, -0.12081351],\n",
       "         [ 1.25547362, -0.67993016, -0.142318  ],\n",
       "         ...,\n",
       "         [ 1.449014  , -0.27134492,  0.13724032],\n",
       "         [ 1.40600502, -0.33585838,  0.11573584],\n",
       "         [ 1.34149157, -0.37886735,  0.05122238]],\n",
       "\n",
       "        [[ 1.23396913, -0.57240773, -0.18532697],\n",
       "         [ 1.23396913, -0.65842567, -0.18532697],\n",
       "         [ 1.23396913, -0.65842567, -0.18532697],\n",
       "         ...,\n",
       "         [ 1.40600502, -0.31435389,  0.07272686],\n",
       "         [ 1.36299605, -0.40037184,  0.05122238],\n",
       "         [ 1.27697811, -0.44338081,  0.02971789]],\n",
       "\n",
       "        [[ 1.19096016, -0.67993016, -0.27134492],\n",
       "         [ 1.21246465, -0.65842567, -0.20683146],\n",
       "         [ 1.23396913, -0.63692119, -0.20683146],\n",
       "         ...,\n",
       "         [ 1.36299605, -0.35736286, -0.01329108],\n",
       "         [ 1.36299605, -0.35736286,  0.00821341],\n",
       "         [ 1.31998708, -0.42187632, -0.01329108]],\n",
       "\n",
       "        ...,\n",
       "\n",
       "        [[ 0.91140184, -0.89497503, -0.67993016],\n",
       "         [ 0.93290632, -0.83046157, -0.67993016],\n",
       "         [ 0.9759153 , -0.76594811, -0.63692119],\n",
       "         ...,\n",
       "         [ 1.08343773, -0.70143465, -0.48638978],\n",
       "         [ 1.10494221, -0.63692119, -0.37886735],\n",
       "         [ 1.04042875, -0.67993016, -0.35736286]],\n",
       "\n",
       "        [[ 0.91140184, -0.87347054, -0.63692119],\n",
       "         [ 0.9759153 , -0.78745259, -0.6154167 ],\n",
       "         [ 1.01892427, -0.70143465, -0.52939876],\n",
       "         ...,\n",
       "         [ 1.10494221, -0.6154167 , -0.37886735],\n",
       "         [ 1.10494221, -0.6154167 , -0.33585838],\n",
       "         [ 1.08343773, -0.59391222, -0.31435389]],\n",
       "\n",
       "        [[ 0.93290632, -0.80895708, -0.59391222],\n",
       "         [ 0.93290632, -0.78745259, -0.67993016],\n",
       "         [ 1.01892427, -0.70143465, -0.57240773],\n",
       "         ...,\n",
       "         [ 1.16945567, -0.55090324, -0.27134492],\n",
       "         [ 1.14795119, -0.55090324, -0.29284941],\n",
       "         [ 1.1264467 , -0.52939876, -0.33585838]]],\n",
       "\n",
       "\n",
       "       ...,\n",
       "\n",
       "\n",
       "       [[[ 0.54582557,  0.30927622,  0.56733005],\n",
       "         [ 0.58883454,  0.35228519,  0.61033903],\n",
       "         [ 0.653348  ,  0.39529416,  0.653348  ],\n",
       "         ...,\n",
       "         [-0.20683146, -0.48638978, -0.48638978],\n",
       "         [-0.16382249, -0.42187632, -0.42187632],\n",
       "         [-0.09930903, -0.35736286, -0.33585838]],\n",
       "\n",
       "        [[ 0.50281659,  0.26626724,  0.48131211],\n",
       "         [ 0.54582557,  0.30927622,  0.54582557],\n",
       "         [ 0.63184351,  0.39529416,  0.61033903],\n",
       "         ...,\n",
       "         [-0.18532697, -0.48638978, -0.48638978],\n",
       "         [-0.16382249, -0.42187632, -0.42187632],\n",
       "         [-0.12081351, -0.35736286, -0.33585838]],\n",
       "\n",
       "        [[ 0.52432108,  0.26626724,  0.50281659],\n",
       "         [ 0.56733005,  0.3307807 ,  0.54582557],\n",
       "         [ 0.63184351,  0.39529416,  0.61033903],\n",
       "         ...,\n",
       "         [-0.20683146, -0.48638978, -0.48638978],\n",
       "         [-0.18532697, -0.42187632, -0.42187632],\n",
       "         [-0.12081351, -0.35736286, -0.35736286]],\n",
       "\n",
       "        ...,\n",
       "\n",
       "        [[ 0.67485249,  0.41679865,  0.56733005],\n",
       "         [ 0.71786146,  0.43830313,  0.54582557],\n",
       "         [ 0.73936594,  0.45980762,  0.56733005],\n",
       "         ...,\n",
       "         [ 0.50281659,  0.13724032,  0.13724032],\n",
       "         [ 0.50281659,  0.11573584,  0.11573584],\n",
       "         [ 0.45980762,  0.11573584,  0.11573584]],\n",
       "\n",
       "        [[ 0.69635697,  0.43830313,  0.52432108],\n",
       "         [ 0.71786146,  0.45980762,  0.54582557],\n",
       "         [ 0.71786146,  0.43830313,  0.54582557],\n",
       "         ...,\n",
       "         [ 0.52432108,  0.11573584,  0.13724032],\n",
       "         [ 0.48131211,  0.09423135,  0.09423135],\n",
       "         [ 0.45980762,  0.09423135,  0.09423135]],\n",
       "\n",
       "        [[ 0.73936594,  0.48131211,  0.63184351],\n",
       "         [ 0.78237492,  0.50281659,  0.61033903],\n",
       "         [ 0.78237492,  0.50281659,  0.61033903],\n",
       "         ...,\n",
       "         [ 0.54582557,  0.13724032,  0.15874481],\n",
       "         [ 0.52432108,  0.11573584,  0.13724032],\n",
       "         [ 0.50281659,  0.09423135,  0.11573584]]],\n",
       "\n",
       "\n",
       "       [[[-1.06701092, -2.07772178, -1.34656924],\n",
       "         [-1.06701092, -2.05621729, -1.28205578],\n",
       "         [-1.02400194, -2.03471281, -1.23904681],\n",
       "         ...,\n",
       "         [-1.34656924, -2.40028908, -1.84117243],\n",
       "         [-1.38957821, -2.42179356, -1.8841814 ],\n",
       "         [-1.47559616, -2.46480254, -1.90568589]],\n",
       "\n",
       "        [[-1.0885154 , -2.05621729, -1.32506475],\n",
       "         [-1.04550643, -2.05621729, -1.28205578],\n",
       "         [-1.00249746, -1.99170383, -1.19603784],\n",
       "         ...,\n",
       "         [-1.28205578, -2.37878459, -1.79816346],\n",
       "         [-1.38957821, -2.42179356, -1.86267692],\n",
       "         [-1.45409167, -2.46480254, -1.90568589]],\n",
       "\n",
       "        [[-1.06701092, -2.07772178, -1.30356027],\n",
       "         [-1.02400194, -2.03471281, -1.23904681],\n",
       "         [-0.98099297, -1.97019935, -1.17453335],\n",
       "         ...,\n",
       "         [-1.32506475, -2.37878459, -1.77665897],\n",
       "         [-1.4110827 , -2.42179356, -1.84117243],\n",
       "         [-1.47559616, -2.48630702, -1.92719038]],\n",
       "\n",
       "        ...,\n",
       "\n",
       "        [[-0.12081351, -1.04550643, -0.52939876],\n",
       "         [-0.07780454, -0.95948849, -0.44338081],\n",
       "         [-0.01329108, -0.89497503, -0.37886735],\n",
       "         ...,\n",
       "         [-2.07772178, -2.78736983, -2.6798474 ],\n",
       "         [-2.12073075, -2.83037881, -2.72285637],\n",
       "         [-2.16373973, -2.85188329, -2.74436086]],\n",
       "\n",
       "        [[-0.09930903, -1.06701092, -0.50789427],\n",
       "         [-0.05630005, -0.98099297, -0.44338081],\n",
       "         [-0.03479557, -0.91647951, -0.37886735],\n",
       "         ...,\n",
       "         [-2.03471281, -2.80887432, -2.6798474 ],\n",
       "         [-2.09922627, -2.83037881, -2.70135189],\n",
       "         [-2.16373973, -2.85188329, -2.74436086]],\n",
       "\n",
       "        [[-0.09930903, -1.11001989, -0.50789427],\n",
       "         [-0.07780454, -1.02400194, -0.4648853 ],\n",
       "         [-0.07780454, -0.937984  , -0.40037184],\n",
       "         ...,\n",
       "         [-2.03471281, -2.80887432, -2.65834291],\n",
       "         [-2.09922627, -2.83037881, -2.72285637],\n",
       "         [-2.16373973, -2.85188329, -2.76586535]]],\n",
       "\n",
       "\n",
       "       [[[ 1.55653643, -0.22833595,  0.54582557],\n",
       "         [ 1.49202297, -0.22833595,  0.50281659],\n",
       "         [ 1.5995454 , -0.12081351,  0.67485249],\n",
       "         ...,\n",
       "         [ 1.49202297, -0.07780454,  0.39529416],\n",
       "         [ 1.06193324, -0.55090324, -0.20683146],\n",
       "         [ 1.40600502, -0.20683146,  0.35228519]],\n",
       "\n",
       "        [[ 1.64255438, -0.07780454,  0.61033903],\n",
       "         [ 1.55653643, -0.20683146,  0.50281659],\n",
       "         [ 1.55653643, -0.18532697,  0.54582557],\n",
       "         ...,\n",
       "         [ 1.57804092, -0.05630005,  0.45980762],\n",
       "         [ 1.27697811, -0.29284941,  0.15874481],\n",
       "         [ 1.08343773, -0.57240773, -0.18532697]],\n",
       "\n",
       "        [[ 1.5995454 , -0.07780454,  0.56733005],\n",
       "         [ 1.53503194, -0.22833595,  0.52432108],\n",
       "         [ 1.51352746, -0.24984043,  0.48131211],\n",
       "         ...,\n",
       "         [ 1.47051848, -0.142318  ,  0.43830313],\n",
       "         [ 1.38450054, -0.20683146,  0.41679865],\n",
       "         [ 1.14795119, -0.40037184, -0.01329108]],\n",
       "\n",
       "        ...,\n",
       "\n",
       "        [[ 1.23396913, -0.16382249,  0.09423135],\n",
       "         [ 1.31998708, -0.142318  ,  0.24476276],\n",
       "         [ 1.40600502, -0.03479557,  0.26626724],\n",
       "         ...,\n",
       "         [ 0.95441081, -0.80895708, -0.89497503],\n",
       "         [ 0.91140184, -0.85196605, -1.00249746],\n",
       "         [ 0.91140184, -0.74444362, -0.91647951]],\n",
       "\n",
       "        [[ 0.99741978, -0.48638978, -0.27134492],\n",
       "         [ 1.29848259, -0.142318  ,  0.1802493 ],\n",
       "         [ 1.40600502, -0.05630005,  0.22325827],\n",
       "         ...,\n",
       "         [ 0.88989735, -0.76594811, -0.91647951],\n",
       "         [ 0.86839286, -0.80895708, -1.00249746],\n",
       "         [ 0.8038794 , -0.95948849, -1.19603784]],\n",
       "\n",
       "        [[ 1.14795119, -0.33585838, -0.12081351],\n",
       "         [ 1.04042875, -0.48638978, -0.22833595],\n",
       "         [ 1.31998708, -0.12081351,  0.1802493 ],\n",
       "         ...,\n",
       "         [ 0.8038794 , -0.80895708, -1.02400194],\n",
       "         [ 0.84688838, -0.80895708, -1.04550643],\n",
       "         [ 0.8038794 , -0.87347054, -1.0885154 ]]]])"
      ]
     },
     "execution_count": 25,
     "metadata": {},
     "output_type": "execute_result"
    }
   ],
   "source": [
    "X_train"
   ]
  },
  {
   "cell_type": "markdown",
   "id": "6d60ecb3",
   "metadata": {
    "papermill": {
     "duration": 0.014929,
     "end_time": "2023-06-18T17:56:43.661680",
     "exception": false,
     "start_time": "2023-06-18T17:56:43.646751",
     "status": "completed"
    },
    "tags": []
   },
   "source": [
    "#### One hot encoding the labels"
   ]
  },
  {
   "cell_type": "code",
   "execution_count": 26,
   "id": "928620da",
   "metadata": {
    "execution": {
     "iopub.execute_input": "2023-06-18T17:56:43.693352Z",
     "iopub.status.busy": "2023-06-18T17:56:43.692434Z",
     "iopub.status.idle": "2023-06-18T17:56:43.698132Z",
     "shell.execute_reply": "2023-06-18T17:56:43.697225Z"
    },
    "papermill": {
     "duration": 0.023787,
     "end_time": "2023-06-18T17:56:43.700294",
     "exception": false,
     "start_time": "2023-06-18T17:56:43.676507",
     "status": "completed"
    },
    "tags": []
   },
   "outputs": [],
   "source": [
    "\n",
    "y_train = to_categorical(y_train_data, num_classes = 7)\n",
    "y_test = to_categorical(y_test_data, num_classes = 7)\n"
   ]
  },
  {
   "cell_type": "code",
   "execution_count": 27,
   "id": "7d9feef7",
   "metadata": {
    "execution": {
     "iopub.execute_input": "2023-06-18T17:56:43.732031Z",
     "iopub.status.busy": "2023-06-18T17:56:43.731214Z",
     "iopub.status.idle": "2023-06-18T17:56:43.737615Z",
     "shell.execute_reply": "2023-06-18T17:56:43.736759Z"
    },
    "papermill": {
     "duration": 0.024584,
     "end_time": "2023-06-18T17:56:43.739760",
     "exception": false,
     "start_time": "2023-06-18T17:56:43.715176",
     "status": "completed"
    },
    "tags": []
   },
   "outputs": [],
   "source": [
    "import keras\n",
    "from keras.models import Sequential\n",
    "from keras.layers import Dense, Dropout, Flatten, Conv2D, MaxPool2D\n",
    "from keras import backend as K\n",
    "import itertools\n",
    "from tensorflow.keras.layers import BatchNormalization"
   ]
  },
  {
   "cell_type": "code",
   "execution_count": 28,
   "id": "c7ad8bfd",
   "metadata": {
    "execution": {
     "iopub.execute_input": "2023-06-18T17:56:43.771571Z",
     "iopub.status.busy": "2023-06-18T17:56:43.771241Z",
     "iopub.status.idle": "2023-06-18T17:56:46.813715Z",
     "shell.execute_reply": "2023-06-18T17:56:46.812684Z"
    },
    "papermill": {
     "duration": 3.061525,
     "end_time": "2023-06-18T17:56:46.816373",
     "exception": false,
     "start_time": "2023-06-18T17:56:43.754848",
     "status": "completed"
    },
    "tags": []
   },
   "outputs": [],
   "source": [
    "model = Sequential()\n",
    "        \n",
    "# [+] 1st convolutional layer\n",
    "model.add(Conv2D(filters = 96,\n",
    "                kernel_size = (11, 11),\n",
    "                strides = (4, 4),\n",
    "                activation = 'relu',\n",
    "                input_shape = (100, 100, 3)))\n",
    "model.add(BatchNormalization())\n",
    "model.add(MaxPool2D(pool_size = (3, 3), strides = (2, 2)))\n",
    "\n",
    "# [+] 2nd convolutional layer\n",
    "model.add(Conv2D(filters = 256,\n",
    "                kernel_size=(5, 5),\n",
    "                strides=(1, 1),\n",
    "                activation = 'relu',\n",
    "                padding = \"same\"))\n",
    "model.add(BatchNormalization())\n",
    "model.add(MaxPool2D(pool_size = (3, 3), strides = (2, 2)))\n",
    "\n",
    "# [+] 3rd convolutional layer\n",
    "model.add(Conv2D(filters = 384,\n",
    "                 kernel_size=(3,3),\n",
    "                 strides=(1,1),\n",
    "                 activation='relu',\n",
    "                 padding=\"same\"))\n",
    "model.add(BatchNormalization())\n",
    "\n",
    "# [+] 4th convolutional layer\n",
    "model.add(Conv2D(filters = 384,\n",
    "                kernel_size = (1, 1), \n",
    "                strides = (1, 1), \n",
    "                activation = 'relu', \n",
    "                padding = \"same\"))\n",
    "model.add(BatchNormalization())\n",
    "\n",
    "# [+] 5th convolutional layer\n",
    "model.add(Conv2D(filters = 256, \n",
    "                kernel_size = (1, 1),\n",
    "                strides = (1, 1),\n",
    "                activation = 'relu',\n",
    "                padding = \"same\"))\n",
    "model.add(BatchNormalization())\n",
    "model.add(MaxPool2D(pool_size = (3, 3), strides = (2, 2)))\n",
    "              \n",
    "model.add(Flatten())  # [+] Convert the Conv2D objects into one List.\n",
    "\n",
    "# [+] 6th, Dense layer:\n",
    "# From the Docs: \n",
    "# A Dense layer feeds all outputs from the previous layer to all its neurons,\n",
    "# each neuron providing one output to the next layer.\n",
    "# source: www.stackoverflow.com\n",
    "model.add(Dense(4096, activation = 'relu'))\n",
    "model.add(Dropout(0.5))\n",
    "              \n",
    "# [+] 7th Dense layer\n",
    "model.add(Dense(4096, activation = 'relu'))\n",
    "model.add(Dropout(0.5))\n",
    "              \n",
    "# [+] 8th output layer\n",
    "model.add(Dense(7, activation = 'softmax'))"
   ]
  },
  {
   "cell_type": "code",
   "execution_count": 29,
   "id": "0c799f2c",
   "metadata": {
    "execution": {
     "iopub.execute_input": "2023-06-18T17:56:46.850015Z",
     "iopub.status.busy": "2023-06-18T17:56:46.848140Z",
     "iopub.status.idle": "2023-06-18T17:56:46.857092Z",
     "shell.execute_reply": "2023-06-18T17:56:46.855972Z"
    },
    "papermill": {
     "duration": 0.029942,
     "end_time": "2023-06-18T17:56:46.861857",
     "exception": false,
     "start_time": "2023-06-18T17:56:46.831915",
     "status": "completed"
    },
    "tags": []
   },
   "outputs": [
    {
     "name": "stdout",
     "output_type": "stream",
     "text": [
      "Model: \"sequential\"\n",
      "_________________________________________________________________\n",
      "Layer (type)                 Output Shape              Param #   \n",
      "=================================================================\n",
      "conv2d (Conv2D)              (None, 23, 23, 96)        34944     \n",
      "_________________________________________________________________\n",
      "batch_normalization (BatchNo (None, 23, 23, 96)        384       \n",
      "_________________________________________________________________\n",
      "max_pooling2d (MaxPooling2D) (None, 11, 11, 96)        0         \n",
      "_________________________________________________________________\n",
      "conv2d_1 (Conv2D)            (None, 11, 11, 256)       614656    \n",
      "_________________________________________________________________\n",
      "batch_normalization_1 (Batch (None, 11, 11, 256)       1024      \n",
      "_________________________________________________________________\n",
      "max_pooling2d_1 (MaxPooling2 (None, 5, 5, 256)         0         \n",
      "_________________________________________________________________\n",
      "conv2d_2 (Conv2D)            (None, 5, 5, 384)         885120    \n",
      "_________________________________________________________________\n",
      "batch_normalization_2 (Batch (None, 5, 5, 384)         1536      \n",
      "_________________________________________________________________\n",
      "conv2d_3 (Conv2D)            (None, 5, 5, 384)         147840    \n",
      "_________________________________________________________________\n",
      "batch_normalization_3 (Batch (None, 5, 5, 384)         1536      \n",
      "_________________________________________________________________\n",
      "conv2d_4 (Conv2D)            (None, 5, 5, 256)         98560     \n",
      "_________________________________________________________________\n",
      "batch_normalization_4 (Batch (None, 5, 5, 256)         1024      \n",
      "_________________________________________________________________\n",
      "max_pooling2d_2 (MaxPooling2 (None, 2, 2, 256)         0         \n",
      "_________________________________________________________________\n",
      "flatten (Flatten)            (None, 1024)              0         \n",
      "_________________________________________________________________\n",
      "dense (Dense)                (None, 4096)              4198400   \n",
      "_________________________________________________________________\n",
      "dropout (Dropout)            (None, 4096)              0         \n",
      "_________________________________________________________________\n",
      "dense_1 (Dense)              (None, 4096)              16781312  \n",
      "_________________________________________________________________\n",
      "dropout_1 (Dropout)          (None, 4096)              0         \n",
      "_________________________________________________________________\n",
      "dense_2 (Dense)              (None, 7)                 28679     \n",
      "=================================================================\n",
      "Total params: 22,795,015\n",
      "Trainable params: 22,792,263\n",
      "Non-trainable params: 2,752\n",
      "_________________________________________________________________\n"
     ]
    }
   ],
   "source": [
    "model.summary()"
   ]
  },
  {
   "cell_type": "code",
   "execution_count": 30,
   "id": "e97d4a11",
   "metadata": {
    "execution": {
     "iopub.execute_input": "2023-06-18T17:56:46.894598Z",
     "iopub.status.busy": "2023-06-18T17:56:46.894266Z",
     "iopub.status.idle": "2023-06-18T17:56:46.900270Z",
     "shell.execute_reply": "2023-06-18T17:56:46.899115Z"
    },
    "papermill": {
     "duration": 0.024838,
     "end_time": "2023-06-18T17:56:46.902764",
     "exception": false,
     "start_time": "2023-06-18T17:56:46.877926",
     "status": "completed"
    },
    "tags": []
   },
   "outputs": [],
   "source": [
    "# model = Sequential()\n",
    "# input_shape = (100, 100, 3)\n",
    "# num_classes = 7\n",
    "# model = Sequential()\n",
    "# model.add(Conv2D(32, kernel_size=(3, 3),activation='relu',padding = 'Same',input_shape=input_shape))\n",
    "# model.add(Conv2D(32,kernel_size=(3, 3), activation='relu',padding = 'Same',))\n",
    "# model.add(MaxPool2D(pool_size = (2, 2)))\n",
    "# model.add(Dropout(0.25))\n",
    "\n",
    "# model.add(Conv2D(64, (3, 3), activation='relu',padding = 'Same'))\n",
    "# model.add(Conv2D(64, (3, 3), activation='relu',padding = 'Same'))\n",
    "# model.add(MaxPool2D(pool_size=(2, 2)))\n",
    "# model.add(Dropout(0.40))\n",
    "\n",
    "# model.add(Flatten())\n",
    "# model.add(Dense(128, activation='relu'))\n",
    "# model.add(Dropout(0.5))\n",
    "# model.add(Dense(num_classes, activation='softmax'))\n",
    "# model.summary()"
   ]
  },
  {
   "cell_type": "code",
   "execution_count": 31,
   "id": "ec8bcbdb",
   "metadata": {
    "execution": {
     "iopub.execute_input": "2023-06-18T17:56:46.934208Z",
     "iopub.status.busy": "2023-06-18T17:56:46.933886Z",
     "iopub.status.idle": "2023-06-18T17:56:46.949559Z",
     "shell.execute_reply": "2023-06-18T17:56:46.948652Z"
    },
    "papermill": {
     "duration": 0.034012,
     "end_time": "2023-06-18T17:56:46.951809",
     "exception": false,
     "start_time": "2023-06-18T17:56:46.917797",
     "status": "completed"
    },
    "tags": []
   },
   "outputs": [],
   "source": [
    "from tensorflow.keras.optimizers import Adam\n",
    "EarlyStop = keras.callbacks.EarlyStopping(\n",
    "               min_delta = 0.001,\n",
    "               patience = 10 ,\n",
    "               verbose = 0\n",
    ")\n",
    "\n",
    "optimizer = Adam(learning_rate = 0.001, beta_1 = 0.9, beta_2 = 0.999, epsilon = None)\n",
    "\n",
    "model.compile(\n",
    "    optimizer =optimizer,\n",
    "    loss = 'categorical_crossentropy',\n",
    "    metrics = ['accuracy']\n",
    ")"
   ]
  },
  {
   "cell_type": "markdown",
   "id": "a2d867f5",
   "metadata": {
    "papermill": {
     "duration": 0.015724,
     "end_time": "2023-06-18T17:56:46.983483",
     "exception": false,
     "start_time": "2023-06-18T17:56:46.967759",
     "status": "completed"
    },
    "tags": []
   },
   "source": [
    "### Splitting the training into validation set"
   ]
  },
  {
   "cell_type": "code",
   "execution_count": 32,
   "id": "9bb661f5",
   "metadata": {
    "execution": {
     "iopub.execute_input": "2023-06-18T17:56:47.015306Z",
     "iopub.status.busy": "2023-06-18T17:56:47.014953Z",
     "iopub.status.idle": "2023-06-18T17:56:47.565100Z",
     "shell.execute_reply": "2023-06-18T17:56:47.564002Z"
    },
    "papermill": {
     "duration": 0.568973,
     "end_time": "2023-06-18T17:56:47.567827",
     "exception": false,
     "start_time": "2023-06-18T17:56:46.998854",
     "status": "completed"
    },
    "tags": []
   },
   "outputs": [],
   "source": [
    "X_train, X_valid, y_train, y_valid = train_test_split(X_train, y_train, test_size = 0.1)"
   ]
  },
  {
   "cell_type": "code",
   "execution_count": 33,
   "id": "a748a475",
   "metadata": {
    "execution": {
     "iopub.execute_input": "2023-06-18T17:56:47.600293Z",
     "iopub.status.busy": "2023-06-18T17:56:47.599308Z",
     "iopub.status.idle": "2023-06-18T17:56:47.605740Z",
     "shell.execute_reply": "2023-06-18T17:56:47.604826Z"
    },
    "papermill": {
     "duration": 0.024789,
     "end_time": "2023-06-18T17:56:47.608021",
     "exception": false,
     "start_time": "2023-06-18T17:56:47.583232",
     "status": "completed"
    },
    "tags": []
   },
   "outputs": [],
   "source": [
    "from tensorflow.keras.callbacks import EarlyStopping, ReduceLROnPlateau\n",
    "learning_rate_reduction = ReduceLROnPlateau(monitor='val_acc', \n",
    "                                            patience=3, \n",
    "                                            verbose=1, \n",
    "                                            factor=0.5, \n",
    "                                            learning_rate=0.00001)"
   ]
  },
  {
   "cell_type": "code",
   "execution_count": 34,
   "id": "6ca05a53",
   "metadata": {
    "execution": {
     "iopub.execute_input": "2023-06-18T17:56:47.639654Z",
     "iopub.status.busy": "2023-06-18T17:56:47.638778Z",
     "iopub.status.idle": "2023-06-18T17:59:12.828744Z",
     "shell.execute_reply": "2023-06-18T17:59:12.827640Z"
    },
    "papermill": {
     "duration": 145.208763,
     "end_time": "2023-06-18T17:59:12.831631",
     "exception": false,
     "start_time": "2023-06-18T17:56:47.622868",
     "status": "completed"
    },
    "tags": []
   },
   "outputs": [
    {
     "name": "stdout",
     "output_type": "stream",
     "text": [
      "Epoch 1/30\n",
      "226/226 [==============================] - 11s 16ms/step - loss: 1.3455 - accuracy: 0.6553 - val_loss: 1.0309 - val_accuracy: 0.6671\n",
      "Epoch 2/30\n",
      "226/226 [==============================] - 3s 12ms/step - loss: 0.9086 - accuracy: 0.6906 - val_loss: 1.0486 - val_accuracy: 0.6546\n",
      "Epoch 3/30\n",
      "226/226 [==============================] - 3s 12ms/step - loss: 0.9226 - accuracy: 0.6828 - val_loss: 0.9385 - val_accuracy: 0.6683\n",
      "Epoch 4/30\n",
      "226/226 [==============================] - 3s 12ms/step - loss: 0.8785 - accuracy: 0.7029 - val_loss: 0.8791 - val_accuracy: 0.6833\n",
      "Epoch 5/30\n",
      "226/226 [==============================] - 3s 12ms/step - loss: 0.8353 - accuracy: 0.7054 - val_loss: 0.7921 - val_accuracy: 0.7020\n",
      "Epoch 6/30\n",
      "226/226 [==============================] - 3s 12ms/step - loss: 0.8413 - accuracy: 0.7074 - val_loss: 0.9238 - val_accuracy: 0.6858\n",
      "Epoch 7/30\n",
      "226/226 [==============================] - 3s 12ms/step - loss: 0.8080 - accuracy: 0.7122 - val_loss: 0.8507 - val_accuracy: 0.6546\n",
      "Epoch 8/30\n",
      "226/226 [==============================] - 3s 12ms/step - loss: 0.7805 - accuracy: 0.7219 - val_loss: 0.7882 - val_accuracy: 0.7070\n",
      "Epoch 9/30\n",
      "226/226 [==============================] - 3s 12ms/step - loss: 0.7983 - accuracy: 0.7252 - val_loss: 0.7814 - val_accuracy: 0.7182\n",
      "Epoch 10/30\n",
      "226/226 [==============================] - 3s 12ms/step - loss: 0.7554 - accuracy: 0.7372 - val_loss: 0.8259 - val_accuracy: 0.7269\n",
      "Epoch 11/30\n",
      "226/226 [==============================] - 3s 12ms/step - loss: 0.7697 - accuracy: 0.7334 - val_loss: 0.7185 - val_accuracy: 0.7456\n",
      "Epoch 12/30\n",
      "226/226 [==============================] - 3s 12ms/step - loss: 0.7073 - accuracy: 0.7460 - val_loss: 0.7483 - val_accuracy: 0.7145\n",
      "Epoch 13/30\n",
      "226/226 [==============================] - 3s 13ms/step - loss: 0.6852 - accuracy: 0.7540 - val_loss: 0.7385 - val_accuracy: 0.7419\n",
      "Epoch 14/30\n",
      "226/226 [==============================] - 3s 12ms/step - loss: 0.6654 - accuracy: 0.7610 - val_loss: 0.7300 - val_accuracy: 0.7431\n",
      "Epoch 15/30\n",
      "226/226 [==============================] - 3s 12ms/step - loss: 0.7207 - accuracy: 0.7569 - val_loss: 1.0863 - val_accuracy: 0.7007\n",
      "Epoch 16/30\n",
      "226/226 [==============================] - 3s 12ms/step - loss: 0.8083 - accuracy: 0.7347 - val_loss: 1.0169 - val_accuracy: 0.6596\n",
      "Epoch 17/30\n",
      "226/226 [==============================] - 3s 12ms/step - loss: 0.7186 - accuracy: 0.7483 - val_loss: 0.6902 - val_accuracy: 0.7357\n",
      "Epoch 18/30\n",
      "226/226 [==============================] - 3s 12ms/step - loss: 0.6533 - accuracy: 0.7638 - val_loss: 0.7412 - val_accuracy: 0.7444\n",
      "Epoch 19/30\n",
      "226/226 [==============================] - 3s 12ms/step - loss: 0.6136 - accuracy: 0.7760 - val_loss: 0.6747 - val_accuracy: 0.7369\n",
      "Epoch 20/30\n",
      "226/226 [==============================] - 3s 12ms/step - loss: 0.6163 - accuracy: 0.7767 - val_loss: 0.7315 - val_accuracy: 0.7406\n",
      "Epoch 21/30\n",
      "226/226 [==============================] - 3s 12ms/step - loss: 0.5915 - accuracy: 0.7840 - val_loss: 0.7008 - val_accuracy: 0.7656\n",
      "Epoch 22/30\n",
      "226/226 [==============================] - 3s 12ms/step - loss: 0.5745 - accuracy: 0.7874 - val_loss: 0.6725 - val_accuracy: 0.7481\n",
      "Epoch 23/30\n",
      "226/226 [==============================] - 3s 12ms/step - loss: 0.6125 - accuracy: 0.7752 - val_loss: 0.7180 - val_accuracy: 0.7406\n",
      "Epoch 24/30\n",
      "226/226 [==============================] - 3s 12ms/step - loss: 0.5809 - accuracy: 0.7886 - val_loss: 0.7392 - val_accuracy: 0.7394\n",
      "Epoch 25/30\n",
      "226/226 [==============================] - 3s 13ms/step - loss: 0.6941 - accuracy: 0.7761 - val_loss: 0.7181 - val_accuracy: 0.7506\n",
      "Epoch 26/30\n",
      "226/226 [==============================] - 3s 12ms/step - loss: 0.6055 - accuracy: 0.7908 - val_loss: 0.7683 - val_accuracy: 0.7419\n",
      "Epoch 27/30\n",
      "226/226 [==============================] - 3s 12ms/step - loss: 0.7861 - accuracy: 0.7710 - val_loss: 0.7857 - val_accuracy: 0.7145\n",
      "Epoch 28/30\n",
      "226/226 [==============================] - 3s 12ms/step - loss: 0.6439 - accuracy: 0.7767 - val_loss: 0.8767 - val_accuracy: 0.7444\n",
      "Epoch 29/30\n",
      "226/226 [==============================] - 3s 12ms/step - loss: 0.6037 - accuracy: 0.7897 - val_loss: 0.7409 - val_accuracy: 0.7519\n",
      "Epoch 30/30\n",
      "226/226 [==============================] - 3s 12ms/step - loss: 0.5278 - accuracy: 0.8055 - val_loss: 0.7456 - val_accuracy: 0.7544\n"
     ]
    }
   ],
   "source": [
    "from tensorflow.keras.preprocessing.image import ImageDataGenerator\n",
    "\n",
    "epochs = 30\n",
    "batch_size = 32\n",
    "#datagen = ImageDataGenerator(zoom_range = 0.2, horizontal_flip = True, shear_range = 0.2)\n",
    "#datagen.fit(X_train)\n",
    "\n",
    "history = model.fit(X_train,y_train, epochs = epochs,\n",
    "                    batch_size=batch_size,\n",
    "                    callbacks = [EarlyStop, learning_rate_reduction],\n",
    "                    validation_data = (X_valid, y_valid))"
   ]
  },
  {
   "cell_type": "markdown",
   "id": "2b377fa4",
   "metadata": {
    "papermill": {
     "duration": 0.117864,
     "end_time": "2023-06-18T17:59:13.067922",
     "exception": false,
     "start_time": "2023-06-18T17:59:12.950058",
     "status": "completed"
    },
    "tags": []
   },
   "source": [
    "### "
   ]
  },
  {
   "cell_type": "code",
   "execution_count": 35,
   "id": "3bf0f49d",
   "metadata": {
    "execution": {
     "iopub.execute_input": "2023-06-18T17:59:13.305130Z",
     "iopub.status.busy": "2023-06-18T17:59:13.304733Z",
     "iopub.status.idle": "2023-06-18T17:59:14.528614Z",
     "shell.execute_reply": "2023-06-18T17:59:14.527149Z"
    },
    "papermill": {
     "duration": 1.345449,
     "end_time": "2023-06-18T17:59:14.530906",
     "exception": false,
     "start_time": "2023-06-18T17:59:13.185457",
     "status": "completed"
    },
    "tags": []
   },
   "outputs": [
    {
     "name": "stdout",
     "output_type": "stream",
     "text": [
      "63/63 [==============================] - 0s 6ms/step - loss: 0.7151 - accuracy: 0.7693\n",
      "Accuracy: 76.93%\n"
     ]
    }
   ],
   "source": [
    "scores = model.evaluate(X_test, y_test, verbose = 1)\n",
    "print(\"Accuracy: %.2f%%\" % (scores[1] * 100))"
   ]
  },
  {
   "cell_type": "markdown",
   "id": "4e4ea2af",
   "metadata": {
    "_kg_hide-output": true,
    "papermill": {
     "duration": 0.121968,
     "end_time": "2023-06-18T17:59:14.770197",
     "exception": false,
     "start_time": "2023-06-18T17:59:14.648229",
     "status": "completed"
    },
    "tags": []
   },
   "source": [
    "### "
   ]
  },
  {
   "cell_type": "code",
   "execution_count": 36,
   "id": "cd7bbb45",
   "metadata": {
    "execution": {
     "iopub.execute_input": "2023-06-18T17:59:15.016020Z",
     "iopub.status.busy": "2023-06-18T17:59:15.013430Z",
     "iopub.status.idle": "2023-06-18T17:59:15.294221Z",
     "shell.execute_reply": "2023-06-18T17:59:15.293190Z"
    },
    "papermill": {
     "duration": 0.406722,
     "end_time": "2023-06-18T17:59:15.296610",
     "exception": false,
     "start_time": "2023-06-18T17:59:14.889888",
     "status": "completed"
    },
    "tags": []
   },
   "outputs": [
    {
     "data": {
      "image/png": "[encoded data removed]",
      "text/plain": [
       "<Figure size 432x288 with 1 Axes>"
      ]
     },
     "metadata": {
      "needs_background": "light"
     },
     "output_type": "display_data"
    }
   ],
   "source": [
    "def display_accuracy() -> None:\n",
    "    # Summarize history for accuracy\n",
    "    plt.plot(history.history['accuracy'])\n",
    "    plt.plot(history.history['val_accuracy'])\n",
    "    plt.title('model accuracy')\n",
    "    plt.ylabel('accuracy')\n",
    "    plt.xlabel('epoch')\n",
    "    plt.legend(['accuracy', 'val_accuracy'], loc='upper left')\n",
    "    plt.show()\n",
    "display_accuracy()\n",
    "\n"
   ]
  },
  {
   "cell_type": "code",
   "execution_count": null,
   "id": "9fb38237",
   "metadata": {
    "papermill": {
     "duration": 0.118591,
     "end_time": "2023-06-18T17:59:15.591321",
     "exception": false,
     "start_time": "2023-06-18T17:59:15.472730",
     "status": "completed"
    },
    "tags": []
   },
   "outputs": [],
   "source": []
  }
 ],
 "metadata": {
  "kernelspec": {
   "display_name": "Python 3",
   "language": "python",
   "name": "python3"
  },
  "language_info": {
   "codemirror_mode": {
    "name": "ipython",
    "version": 3
   },
   "file_extension": ".py",
   "mimetype": "text/x-python",
   "name": "python",
   "nbconvert_exporter": "python",
   "pygments_lexer": "ipython3",
   "version": "3.7.12"
  },
  "papermill": {
   "default_parameters": {},
   "duration": 411.613335,
   "end_time": "2023-06-18T17:59:19.070467",
   "environment_variables": {},
   "exception": null,
   "input_path": "__notebook__.ipynb",
   "output_path": "__notebook__.ipynb",
   "parameters": {},
   "start_time": "2023-06-18T17:52:27.457132",
   "version": "2.3.4"
  }
 },
 "nbformat": 4,
 "nbformat_minor": 5
}
